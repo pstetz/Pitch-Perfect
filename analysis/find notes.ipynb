{
 "cells": [
  {
   "cell_type": "code",
   "execution_count": 12,
   "metadata": {
    "collapsed": true
   },
   "outputs": [],
   "source": [
    "import matplotlib.pyplot as plt\n",
    "import seaborn as sns\n",
    "sns.set()\n",
    "%matplotlib inline\n",
    "\n",
    "import warnings\n",
    "warnings.filterwarnings('ignore')"
   ]
  },
  {
   "cell_type": "code",
   "execution_count": 13,
   "metadata": {
    "collapsed": true
   },
   "outputs": [],
   "source": [
    "%run ../classes/music.py"
   ]
  },
  {
   "cell_type": "code",
   "execution_count": 18,
   "metadata": {},
   "outputs": [
    {
     "data": {
      "text/html": [
       "<div>\n",
       "<style>\n",
       "    .dataframe thead tr:only-child th {\n",
       "        text-align: right;\n",
       "    }\n",
       "\n",
       "    .dataframe thead th {\n",
       "        text-align: left;\n",
       "    }\n",
       "\n",
       "    .dataframe tbody tr th {\n",
       "        vertical-align: top;\n",
       "    }\n",
       "</style>\n",
       "<table border=\"1\" class=\"dataframe\">\n",
       "  <thead>\n",
       "    <tr style=\"text-align: right;\">\n",
       "      <th></th>\n",
       "      <th>time</th>\n",
       "      <th>id</th>\n",
       "      <th>signal</th>\n",
       "      <th>pitch</th>\n",
       "      <th>given_pitch</th>\n",
       "      <th>loudness</th>\n",
       "      <th>note</th>\n",
       "      <th>octave</th>\n",
       "      <th>alter</th>\n",
       "      <th>duration</th>\n",
       "      <th>typ</th>\n",
       "    </tr>\n",
       "  </thead>\n",
       "  <tbody>\n",
       "    <tr>\n",
       "      <th>0</th>\n",
       "      <td>0.0</td>\n",
       "      <td>45</td>\n",
       "      <td>7115093.96</td>\n",
       "      <td>208.0</td>\n",
       "      <td>207.65</td>\n",
       "      <td>9625</td>\n",
       "      <td>G</td>\n",
       "      <td>3</td>\n",
       "      <td>1</td>\n",
       "      <td>0.25</td>\n",
       "      <td>sixteenth</td>\n",
       "    </tr>\n",
       "  </tbody>\n",
       "</table>\n",
       "</div>"
      ],
      "text/plain": [
       "   time  id      signal  pitch  given_pitch loudness note octave alter  \\\n",
       "0   0.0  45  7115093.96  208.0       207.65     9625    G      3     1   \n",
       "\n",
       "   duration        typ  \n",
       "0      0.25  sixteenth  "
      ]
     },
     "execution_count": 18,
     "metadata": {},
     "output_type": "execute_result"
    }
   ],
   "source": [
    "music = Music()\n",
    "music.read('../sounds/wav/cello_pluck/single/a3.wav')\n",
    "notes = music.compile_music()\n",
    "notes"
   ]
  },
  {
   "cell_type": "code",
   "execution_count": 19,
   "metadata": {},
   "outputs": [
    {
     "data": {
      "image/png": "[encoded data removed]",
      "text/plain": [
       "<matplotlib.figure.Figure at 0x10f292c18>"
      ]
     },
     "metadata": {},
     "output_type": "display_data"
    }
   ],
   "source": [
    "fft_data = np.abs(fft(music.chan1))\n",
    "conversion_factor = music.sample_rate / len(fft_data)\n",
    "x = [i * conversion_factor for i in range(len(fft_data))]\n",
    "\n",
    "plt.plot(x, fft_data)\n",
    "plt.xlim(0, 300)\n",
    "_ = plt.axvline(notes.iloc[0].given_pitch, color=\"k\")"
   ]
  },
  {
   "cell_type": "code",
   "execution_count": null,
   "metadata": {
    "collapsed": true
   },
   "outputs": [],
   "source": []
  }
 ],
 "metadata": {
  "kernelspec": {
   "display_name": "Python 3",
   "language": "python",
   "name": "python3"
  },
  "language_info": {
   "codemirror_mode": {
    "name": "ipython",
    "version": 3
   },
   "file_extension": ".py",
   "mimetype": "text/x-python",
   "name": "python",
   "nbconvert_exporter": "python",
   "pygments_lexer": "ipython3",
   "version": "3.6.3"
  }
 },
 "nbformat": 4,
 "nbformat_minor": 2
}
