{
 "cells": [
  {
   "cell_type": "code",
   "execution_count": 18,
   "metadata": {
    "collapsed": true
   },
   "outputs": [],
   "source": [
    "import matplotlib.pyplot as plt\n",
    "import seaborn as sns\n",
    "sns.set()\n",
    "%matplotlib inline\n",
    "\n",
    "import numpy as np\n",
    "import pandas as pd\n",
    "\n",
    "from scipy.fftpack import fft\n",
    "\n",
    "import warnings\n",
    "warnings.filterwarnings('ignore')"
   ]
  },
  {
   "cell_type": "code",
   "execution_count": 142,
   "metadata": {},
   "outputs": [
    {
     "data": {
      "text/plain": [
       "<matplotlib.figure.Figure at 0x1c1baec828>"
      ]
     },
     "metadata": {},
     "output_type": "display_data"
    }
   ],
   "source": [
    "%run classes/music.py\n",
    "%run classes/measure.py\n",
    "%run classes/note.py"
   ]
  },
  {
   "cell_type": "code",
   "execution_count": 143,
   "metadata": {
    "collapsed": true
   },
   "outputs": [],
   "source": [
    "musicA = Music()\n",
    "musicA.read('sounds/wav/cello_pluck/single/a3.wav')\n",
    "\n",
    "musicC = Music()\n",
    "musicC.read('sounds/wav/cello_pluck/single/d3.wav')"
   ]
  },
  {
   "cell_type": "code",
   "execution_count": 144,
   "metadata": {
    "collapsed": true
   },
   "outputs": [],
   "source": [
    "notesA = musicA.find_peaks(window=10, resolution=40000, SIGMA=10)\n",
    "notesA = [musicA.chan1[notesA[i]: notesA[i] + 30000] for i in range(len(notesA))]\n",
    "\n",
    "notesC = musicC.find_peaks(window=10, resolution=40000, SIGMA=10)\n",
    "notesC = [musicC.chan1[notesC[i]: notesC[i] + 30000] for i in range(len(notesC))]"
   ]
  },
  {
   "cell_type": "code",
   "execution_count": 153,
   "metadata": {},
   "outputs": [
    {
     "name": "stdout",
     "output_type": "stream",
     "text": [
      "A, octave: 3, actual pitch: 214.4Hz, ideal pitch: 220.0Hz\n"
     ]
    },
    {
     "data": {
      "image/png": "[encoded data removed]",
      "text/plain": [
       "<matplotlib.figure.Figure at 0x1c1aab4b38>"
      ]
     },
     "metadata": {},
     "output_type": "display_data"
    }
   ],
   "source": [
    "f_data = np.abs(fft(notesA[0]))\n",
    "conversion_factor = musicA.sample_rate / len(f_data)\n",
    "x = [i * conversion_factor for i in range(len(f_data))]\n",
    "\n",
    "note = Note(f_data.argmax() * conversion_factor)\n",
    "note.describe()\n",
    "\n",
    "plt.plot(x, f_data)\n",
    "plt.xlim(0, 300)\n",
    "_ = plt.axvline(note.given_pitch, color=\"k\")"
   ]
  },
  {
   "cell_type": "code",
   "execution_count": 154,
   "metadata": {},
   "outputs": [
    {
     "name": "stdout",
     "output_type": "stream",
     "text": [
      "C#, octave: 3, actual pitch: 142.4Hz, ideal pitch: 138.59Hz\n"
     ]
    },
    {
     "data": {
      "image/png": "[encoded data removed]",
      "text/plain": [
       "<matplotlib.figure.Figure at 0x1c1bca4630>"
      ]
     },
     "metadata": {},
     "output_type": "display_data"
    }
   ],
   "source": [
    "f_data = np.abs(fft(notesC[0]))\n",
    "conversion_factor = musicC.sample_rate / len(f_data)\n",
    "x = [i * conversion_factor for i in range(len(f_data))]\n",
    "\n",
    "note = Note(f_data.argmax() * conversion_factor)\n",
    "note.describe()\n",
    "\n",
    "plt.plot(x, f_data)\n",
    "plt.xlim(0, 300)\n",
    "_ = plt.axvline(note.given_pitch, color=\"k\")"
   ]
  },
  {
   "cell_type": "code",
   "execution_count": null,
   "metadata": {
    "collapsed": true
   },
   "outputs": [],
   "source": []
  }
 ],
 "metadata": {
  "kernelspec": {
   "display_name": "Python 3",
   "language": "python",
   "name": "python3"
  },
  "language_info": {
   "codemirror_mode": {
    "name": "ipython",
    "version": 3
   },
   "file_extension": ".py",
   "mimetype": "text/x-python",
   "name": "python",
   "nbconvert_exporter": "python",
   "pygments_lexer": "ipython3",
   "version": "3.6.3"
  }
 },
 "nbformat": 4,
 "nbformat_minor": 2
}
