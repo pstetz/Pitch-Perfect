{
 "cells": [
  {
   "cell_type": "code",
   "execution_count": 1,
   "metadata": {
    "collapsed": true
   },
   "outputs": [],
   "source": [
    "import matplotlib.pyplot as plt\n",
    "import seaborn as sns\n",
    "sns.set()\n",
    "%matplotlib inline\n",
    "\n",
    "import warnings\n",
    "warnings.filterwarnings('ignore')"
   ]
  },
  {
   "cell_type": "code",
   "execution_count": 2,
   "metadata": {
    "collapsed": true
   },
   "outputs": [],
   "source": [
    "%run classes/music.py"
   ]
  },
  {
   "cell_type": "code",
   "execution_count": 3,
   "metadata": {
    "collapsed": true
   },
   "outputs": [],
   "source": [
    "music = Music()\n",
    "music.read('sounds/wav/cello_pluck/multi/a3_d3_a3_d3.wav')\n",
    "notes = music.compile_music()"
   ]
  },
  {
   "cell_type": "code",
   "execution_count": 4,
   "metadata": {},
   "outputs": [
    {
     "data": {
      "text/html": [
       "<div>\n",
       "<style>\n",
       "    .dataframe thead tr:only-child th {\n",
       "        text-align: right;\n",
       "    }\n",
       "\n",
       "    .dataframe thead th {\n",
       "        text-align: left;\n",
       "    }\n",
       "\n",
       "    .dataframe tbody tr th {\n",
       "        vertical-align: top;\n",
       "    }\n",
       "</style>\n",
       "<table border=\"1\" class=\"dataframe\">\n",
       "  <thead>\n",
       "    <tr style=\"text-align: right;\">\n",
       "      <th></th>\n",
       "      <th>time</th>\n",
       "      <th>id</th>\n",
       "      <th>signal</th>\n",
       "      <th>pitch</th>\n",
       "      <th>given_pitch</th>\n",
       "      <th>loudness</th>\n",
       "      <th>note</th>\n",
       "      <th>octave</th>\n",
       "      <th>alter</th>\n",
       "      <th>duration</th>\n",
       "      <th>typ</th>\n",
       "    </tr>\n",
       "  </thead>\n",
       "  <tbody>\n",
       "    <tr>\n",
       "      <th>0</th>\n",
       "      <td>0.000000</td>\n",
       "      <td>45</td>\n",
       "      <td>1.215951e+07</td>\n",
       "      <td>208.0</td>\n",
       "      <td>207.65</td>\n",
       "      <td>14498</td>\n",
       "      <td>G</td>\n",
       "      <td>3</td>\n",
       "      <td>1</td>\n",
       "      <td>2.00</td>\n",
       "      <td>half</td>\n",
       "    </tr>\n",
       "    <tr>\n",
       "      <th>1</th>\n",
       "      <td>1.542063</td>\n",
       "      <td>39</td>\n",
       "      <td>8.042224e+06</td>\n",
       "      <td>144.0</td>\n",
       "      <td>146.83</td>\n",
       "      <td>9346</td>\n",
       "      <td>D</td>\n",
       "      <td>3</td>\n",
       "      <td>0</td>\n",
       "      <td>0.25</td>\n",
       "      <td>sixteenth</td>\n",
       "    </tr>\n",
       "    <tr>\n",
       "      <th>2</th>\n",
       "      <td>1.654500</td>\n",
       "      <td>39</td>\n",
       "      <td>7.572121e+06</td>\n",
       "      <td>144.0</td>\n",
       "      <td>146.83</td>\n",
       "      <td>6317</td>\n",
       "      <td>D</td>\n",
       "      <td>3</td>\n",
       "      <td>0</td>\n",
       "      <td>1.00</td>\n",
       "      <td>quarter</td>\n",
       "    </tr>\n",
       "    <tr>\n",
       "      <th>3</th>\n",
       "      <td>3.139229</td>\n",
       "      <td>45</td>\n",
       "      <td>2.708530e+06</td>\n",
       "      <td>208.0</td>\n",
       "      <td>207.65</td>\n",
       "      <td>5117</td>\n",
       "      <td>G</td>\n",
       "      <td>3</td>\n",
       "      <td>1</td>\n",
       "      <td>1.00</td>\n",
       "      <td>quarter</td>\n",
       "    </tr>\n",
       "    <tr>\n",
       "      <th>5</th>\n",
       "      <td>4.611062</td>\n",
       "      <td>39</td>\n",
       "      <td>1.001006e+07</td>\n",
       "      <td>144.0</td>\n",
       "      <td>146.83</td>\n",
       "      <td>10543</td>\n",
       "      <td>D</td>\n",
       "      <td>3</td>\n",
       "      <td>0</td>\n",
       "      <td>0.25</td>\n",
       "      <td>sixteenth</td>\n",
       "    </tr>\n",
       "    <tr>\n",
       "      <th>6</th>\n",
       "      <td>4.757875</td>\n",
       "      <td>39</td>\n",
       "      <td>7.989114e+06</td>\n",
       "      <td>144.0</td>\n",
       "      <td>146.83</td>\n",
       "      <td>6616</td>\n",
       "      <td>D</td>\n",
       "      <td>3</td>\n",
       "      <td>0</td>\n",
       "      <td>0.25</td>\n",
       "      <td>sixteenth</td>\n",
       "    </tr>\n",
       "  </tbody>\n",
       "</table>\n",
       "</div>"
      ],
      "text/plain": [
       "       time  id        signal  pitch  given_pitch loudness note octave alter  \\\n",
       "0  0.000000  45  1.215951e+07  208.0       207.65    14498    G      3     1   \n",
       "1  1.542063  39  8.042224e+06  144.0       146.83     9346    D      3     0   \n",
       "2  1.654500  39  7.572121e+06  144.0       146.83     6317    D      3     0   \n",
       "3  3.139229  45  2.708530e+06  208.0       207.65     5117    G      3     1   \n",
       "5  4.611062  39  1.001006e+07  144.0       146.83    10543    D      3     0   \n",
       "6  4.757875  39  7.989114e+06  144.0       146.83     6616    D      3     0   \n",
       "\n",
       "   duration        typ  \n",
       "0      2.00       half  \n",
       "1      0.25  sixteenth  \n",
       "2      1.00    quarter  \n",
       "3      1.00    quarter  \n",
       "5      0.25  sixteenth  \n",
       "6      0.25  sixteenth  "
      ]
     },
     "execution_count": 4,
     "metadata": {},
     "output_type": "execute_result"
    }
   ],
   "source": [
    "notes"
   ]
  },
  {
   "cell_type": "code",
   "execution_count": 5,
   "metadata": {
    "collapsed": true
   },
   "outputs": [],
   "source": [
    "music.format_notes(notes)"
   ]
  },
  {
   "cell_type": "code",
   "execution_count": 6,
   "metadata": {
    "collapsed": true
   },
   "outputs": [],
   "source": [
    "music.save(\"~/Desktop/output.xml\")"
   ]
  },
  {
   "cell_type": "code",
   "execution_count": null,
   "metadata": {
    "collapsed": true
   },
   "outputs": [],
   "source": []
  },
  {
   "cell_type": "code",
   "execution_count": null,
   "metadata": {
    "collapsed": true
   },
   "outputs": [],
   "source": []
  }
 ],
 "metadata": {
  "kernelspec": {
   "display_name": "Python 3",
   "language": "python",
   "name": "python3"
  },
  "language_info": {
   "codemirror_mode": {
    "name": "ipython",
    "version": 3
   },
   "file_extension": ".py",
   "mimetype": "text/x-python",
   "name": "python",
   "nbconvert_exporter": "python",
   "pygments_lexer": "ipython3",
   "version": "3.6.3"
  }
 },
 "nbformat": 4,
 "nbformat_minor": 2
}
