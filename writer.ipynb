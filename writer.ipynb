{
 "cells": [
  {
   "cell_type": "markdown",
   "metadata": {},
   "source": [
    "# Writes the notes to sheet music (not so straight forward)"
   ]
  },
  {
   "cell_type": "markdown",
   "metadata": {},
   "source": [
    "### Initializes music"
   ]
  },
  {
   "cell_type": "code",
   "execution_count": 24,
   "metadata": {},
   "outputs": [],
   "source": [
    "class Note:\n",
    "    \n",
    "    def __init__(self, note=\"A\", pitch=\"440\", duration=1, instrument=\"cello\"):\n",
    "        self.note = note\n",
    "        self.pitch = pitch\n",
    "        self.duration = duration\n",
    "        self.instrument = instrument\n",
    "        \n",
    "\n",
    "class Music:\n",
    "    \n",
    "    # FIXME: make all these inputs mandatory\n",
    "    def __init__(self, title=\"title\", output_path=\"output\", input_path=\"input\", username=\"ace\", ver_number=\"0.00\"):\n",
    "        self.title = title\n",
    "        self.output_path = output_path\n",
    "        self.input_path = input_path\n",
    "        self.username = username\n",
    "        self.ver_number = ver_number # version number of decoder\n",
    "        self.notes = list()\n",
    "        \n",
    "    def addNote(self, note):\n",
    "        self.notes.append(note)\n",
    "\n",
    "music = Music()\n",
    "note = Note()\n",
    "\n",
    "music.addNote(note)"
   ]
  },
  {
   "cell_type": "code",
   "execution_count": 25,
   "metadata": {},
   "outputs": [
    {
     "data": {
      "text/plain": [
       "'440'"
      ]
     },
     "execution_count": 25,
     "metadata": {},
     "output_type": "execute_result"
    }
   ],
   "source": [
    "music.notes[0].pitch"
   ]
  },
  {
   "cell_type": "markdown",
   "metadata": {},
   "source": [
    "### Save sheet music"
   ]
  },
  {
   "cell_type": "code",
   "execution_count": null,
   "metadata": {
    "collapsed": true
   },
   "outputs": [],
   "source": [
    "# <?xml version=\"1.0\" encoding=\"UTF-8\" standalone=\"no\"?>\n",
    "# <!DOCTYPE score-partwise PUBLIC\n",
    "#     \"-//Recordare//DTD MusicXML 3.1 Partwise//EN\"\n",
    "#     \"http://www.musicxml.org/dtds/partwise.dtd\">\n",
    "# <score-partwise version=\"3.1\">\n",
    "#   <part-list>\n",
    "#     <score-part id=\"P1\">\n",
    "#       <part-name>Music</part-name>\n",
    "#     </score-part>\n",
    "#   </part-list>\n",
    "#   <part id=\"P1\">\n",
    "#     <measure number=\"1\">\n",
    "#       <attributes>\n",
    "#         <divisions>1</divisions>\n",
    "#         <key>\n",
    "#           <fifths>0</fifths>\n",
    "#         </key>\n",
    "#         <time>\n",
    "#           <beats>4</beats>\n",
    "#           <beat-type>4</beat-type>\n",
    "#         </time>\n",
    "#         <clef>\n",
    "#           <sign>G</sign>\n",
    "#           <line>2</line>\n",
    "#         </clef>\n",
    "#       </attributes>\n",
    "#       <note>\n",
    "#         <pitch>\n",
    "#           <step>C</step>\n",
    "#           <octave>4</octave>\n",
    "#         </pitch>\n",
    "#         <duration>4</duration>\n",
    "#         <type>whole</type>\n",
    "#       </note>\n",
    "#     </measure>\n",
    "#   </part>\n",
    "# </score-partwise>"
   ]
  },
  {
   "cell_type": "code",
   "execution_count": null,
   "metadata": {
    "collapsed": true
   },
   "outputs": [],
   "source": []
  },
  {
   "cell_type": "code",
   "execution_count": null,
   "metadata": {
    "collapsed": true
   },
   "outputs": [],
   "source": []
  },
  {
   "cell_type": "markdown",
   "metadata": {},
   "source": [
    "### Calibrate (hard)\n",
    "\n",
    "I will save this to the very end.  In the meantime I will have everything in C with 4 4 tempo\n",
    "\n",
    "Figures out the key and time signature"
   ]
  }
 ],
 "metadata": {
  "kernelspec": {
   "display_name": "Python 3",
   "language": "python",
   "name": "python3"
  },
  "language_info": {
   "codemirror_mode": {
    "name": "ipython",
    "version": 3
   },
   "file_extension": ".py",
   "mimetype": "text/x-python",
   "name": "python",
   "nbconvert_exporter": "python",
   "pygments_lexer": "ipython3",
   "version": "3.6.3"
  }
 },
 "nbformat": 4,
 "nbformat_minor": 2
}
