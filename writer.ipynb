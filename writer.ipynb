{
 "cells": [
  {
   "cell_type": "markdown",
   "metadata": {},
   "source": [
    "# Writes the notes to sheet music (not so straight forward)"
   ]
  },
  {
   "cell_type": "markdown",
   "metadata": {},
   "source": [
    "### Initializes music"
   ]
  },
  {
   "cell_type": "code",
   "execution_count": 29,
   "metadata": {},
   "outputs": [],
   "source": [
    "class Note:\n",
    "    \n",
    "    def __init__(self, note=\"A\", pitch=\"440\", duration=1, instrument=\"cello\"):\n",
    "        self.note = note\n",
    "        self.pitch = pitch\n",
    "        self.duration = duration\n",
    "        self.instrument = instrument\n",
    "        \n",
    "class Measure:\n",
    "    \n",
    "    def __init__(self, number=1, divisions=0):\n",
    "        self.number = number\n",
    "        self.divisions = divisions\n",
    "        self.notes = list()\n",
    "        \n",
    "    def addNote(self, note):\n",
    "        self.notes.append(note)\n",
    "        \n",
    "\n",
    "class Music:\n",
    "    \n",
    "    # FIXME: make all these inputs mandatory\n",
    "    def __init__(self, title=\"title\", output_path=\"output\", input_path=\"input\", username=\"ace\", ver_number=\"0.00\"):\n",
    "        self.title = title\n",
    "        self.output_path = output_path\n",
    "        self.input_path = input_path\n",
    "        self.username = username\n",
    "        self.ver_number = ver_number # version number of decoder\n",
    "        self.measures = list()\n",
    "        \n",
    "    def addMeasure(self, measure):\n",
    "        self.measures.append(measure)\n",
    "\n",
    "music = Music()\n",
    "measure = Measure()\n",
    "note = Note()\n",
    "\n",
    "measure.addNote(note)\n",
    "music.addMeasure(measure)"
   ]
  },
  {
   "cell_type": "code",
   "execution_count": 30,
   "metadata": {},
   "outputs": [
    {
     "data": {
      "text/plain": [
       "'440'"
      ]
     },
     "execution_count": 30,
     "metadata": {},
     "output_type": "execute_result"
    }
   ],
   "source": [
    "music.measures[0].notes[0].pitch"
   ]
  },
  {
   "cell_type": "markdown",
   "metadata": {},
   "source": [
    "### Save sheet music"
   ]
  },
  {
   "cell_type": "code",
   "execution_count": null,
   "metadata": {
    "collapsed": true
   },
   "outputs": [],
   "source": [
    "def saveFile(music):\n",
    "    file = open(music.output, \"w\") \n",
    " \n",
    "    # write top\n",
    "    file.write('<?xml version=\"1.0\" encoding=\"UTF-8\" standalone=\"no\"?>')\n",
    "    file.write('<!DOCTYPE score-partwise PUBLIC \"-//Recordare//DTD MusicXML 3.1 Partwise//EN\" \"http://www.musicxml.org/dtds/partwise.dtd\">')\n",
    "    file.write('<score-partwise version=\"3.1\">')\n",
    "    file.write('  <part-list>')\n",
    "    file.write('    <score-part id=\"P1\">')\n",
    "    file.write('      <part-name>{}</part-name>'.format(music.title))\n",
    "    file.write('    </score-part>')\n",
    "    file.write('  </part-list>')\n",
    "    file.write('  <part id=\"P1\">')\n",
    "    \n",
    "    # write first measure\n",
    "    \n",
    "    # create music\n",
    "    for measure in music.measures:\n",
    "    file.write('  <measure number=\"{}\">'.format(measure.number))\n",
    "    file.write('    <attributes>')\n",
    "    file.write('      <divisions>{}</divisions>'.format(measure.divisions))\n",
    "    file.write('      <key><fifths>0</fifths></key>') # FIXME: look into this\n",
    "    file.write('      <time>')\n",
    "    file.write('        <beats>4</beats>')\n",
    "    file.write('        <beat-type>4</beat-type>')\n",
    "    file.write('      </time>')\n",
    "    file.write('      <clef>')\n",
    "    file.write('        <sign>G</sign>')\n",
    "    file.write('        <line>2</line>')\n",
    "    file.write('      </clef>')\n",
    "    file.write('    </attributes>')\n",
    "\n",
    "    # writes notes from spefic measure\n",
    "    for note in measure:\n",
    "        file.write('    <note>')\n",
    "        file.write('      <pitch>')\n",
    "        file.write('        <step>C</step>')\n",
    "        file.write('        <octave>4</octave>')\n",
    "        file.write('      </pitch>')\n",
    "        file.write('      <duration>4</duration>')\n",
    "        file.write('      <type>whole</type>')\n",
    "        file.write('    </note>')\n",
    "    \n",
    "    file.write('  </measure>')\n",
    "    \n",
    "    # write bottom\n",
    "    file.write('  </part>')\n",
    "    file.write('</score-partwise>')\n",
    "\n",
    "    file.close() "
   ]
  },
  {
   "cell_type": "code",
   "execution_count": null,
   "metadata": {
    "collapsed": true
   },
   "outputs": [],
   "source": []
  },
  {
   "cell_type": "code",
   "execution_count": null,
   "metadata": {
    "collapsed": true
   },
   "outputs": [],
   "source": []
  },
  {
   "cell_type": "markdown",
   "metadata": {},
   "source": [
    "### Calibrate (hard)\n",
    "\n",
    "I will save this to the very end.  In the meantime I will have everything in C with 4 4 tempo\n",
    "\n",
    "Figures out the key and time signature"
   ]
  }
 ],
 "metadata": {
  "kernelspec": {
   "display_name": "Python 3",
   "language": "python",
   "name": "python3"
  },
  "language_info": {
   "codemirror_mode": {
    "name": "ipython",
    "version": 3
   },
   "file_extension": ".py",
   "mimetype": "text/x-python",
   "name": "python",
   "nbconvert_exporter": "python",
   "pygments_lexer": "ipython3",
   "version": "3.6.3"
  }
 },
 "nbformat": 4,
 "nbformat_minor": 2
}
