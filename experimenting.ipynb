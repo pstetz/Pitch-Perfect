{
 "cells": [
  {
   "cell_type": "code",
   "execution_count": 15,
   "metadata": {},
   "outputs": [],
   "source": [
    "# general imports\n",
    "import numpy as np\n",
    "import pandas as pd\n",
    "\n",
    "# scipy imports\n",
    "from scipy.fftpack import fft\n",
    "from scipy.io import wavfile\n",
    "\n",
    "# custom classes\n",
    "%run classes/measure.py\n",
    "%run classes/note.py\n",
    "\n",
    "class Music:\n",
    "    \n",
    "    def __init__(self, \n",
    "                 time_signature=(4, 4),\n",
    "                 tempo=60,\n",
    "                 ver_number=\"0.00\"):\n",
    "            \n",
    "        self.time_signature = time_signature\n",
    "        self.tempo = tempo\n",
    "        self.ver_number = ver_number # version number of decoder\n",
    "\n",
    "    def read(self, input_path, is_wav_format=True):\n",
    "        self.input_path = input_path\n",
    "        if is_wav_format:\n",
    "            self.sample_rate, self.raw = wavfile.read(input_path)\n",
    "        self.chan1, self.chan2 = zip(*self.raw)\n",
    "        \n",
    "    def compile_music(self, window=0, DIFF=0):\n",
    "        self.measures = list()\n",
    "        \n",
    "        peaks = self.find_peaks(window, DIFF)\n",
    "        notes = self.get_notes(peaks)\n",
    "#         notes = self.filter_notes(notes)\n",
    "#         for i, note in enumerate(notes):\n",
    "#             measure = Measure(i+1)\n",
    "#             measure.addNote(note)\n",
    "#             self.addMeasure(measure)\n",
    "        return notes\n",
    "    \n",
    "    def get_notes(self, peaks, inspection_width=10000, max_pitch=8000, use_chan1=True):\n",
    "        notes = list()\n",
    "        for peak, loudness in peaks:\n",
    "            if use_chan1:\n",
    "                inspection_zone = self.chan1[peak: peak+inspection_width]\n",
    "                fft_data = np.abs(fft(inspection_zone))\n",
    "                \n",
    "                conversion_factor = self.sample_rate / len(fft_data)\n",
    "                max_signal = max(fft_data)\n",
    "                resonant_freqs = (-fft_data[:max_pitch]).argsort()\n",
    "                timestamp = peak #/ self.sample_rate\n",
    "\n",
    "                for freq in resonant_freqs:\n",
    "                    signal = fft_data[freq]\n",
    "                    if signal < max_signal * 0.4:\n",
    "                        break\n",
    "                    note = Note(freq * conversion_factor, signal, loudness, timestamp)\n",
    "                    notes.append(note.getInfo())\n",
    "        notes = pd.DataFrame(notes, columns=[\"time\", \"id\", \"signal\", \"pitch\", \"given_pitch\",\n",
    "                                             \"loudness\", \"duration\", \"note\", \"octave\", \"alter\"])\n",
    "        return notes\n",
    "\n",
    "    # ideally this is when dynamics will come in\n",
    "    def filter_notes(self, notes):\n",
    "        N = len(notes)\n",
    "        to_delete = list()\n",
    "        for i in range(1, N):\n",
    "            if notes.iloc[i - 1].given_pitch == notes.iloc[i].given_pitch:\n",
    "                to_delete.append(i)\n",
    "        for index in list(reversed(to_delete)):\n",
    "            notes.drop([index])\n",
    "        return notes\n",
    "    \n",
    "    def find_peaks(self):\n",
    "        # this comes out to around a tenth of a second.\n",
    "        # notes played within this interval will be counted as one\n",
    "        separation = 5000\n",
    "        \n",
    "        peaks = list()\n",
    "        for i in range(separation, len(self.chan1) - separation):\n",
    "            prv = self.chan1[i - separation: i]\n",
    "            nxt = self.chan1[i+1: i+separation+1]\n",
    "            if chan1[i] > max(prv) and self.chan1[i] > max(nxt) and self.chan1[i] > 5000:\n",
    "                if len(peaks) == 0 or i - peaks[-1] > separation:\n",
    "                    peaks.append(i)\n",
    "        return peaks\n",
    "        \n",
    "    def addMeasure(self, measure):\n",
    "        self.measures.append(measure)"
   ]
  },
  {
   "cell_type": "code",
   "execution_count": null,
   "metadata": {
    "collapsed": true
   },
   "outputs": [],
   "source": [
    "def filt(notes):\n",
    "    \n",
    "    return notes"
   ]
  },
  {
   "cell_type": "code",
   "execution_count": 50,
   "metadata": {},
   "outputs": [
    {
     "data": {
      "text/html": [
       "<div>\n",
       "<style>\n",
       "    .dataframe thead tr:only-child th {\n",
       "        text-align: right;\n",
       "    }\n",
       "\n",
       "    .dataframe thead th {\n",
       "        text-align: left;\n",
       "    }\n",
       "\n",
       "    .dataframe tbody tr th {\n",
       "        vertical-align: top;\n",
       "    }\n",
       "</style>\n",
       "<table border=\"1\" class=\"dataframe\">\n",
       "  <thead>\n",
       "    <tr style=\"text-align: right;\">\n",
       "      <th></th>\n",
       "      <th>time</th>\n",
       "      <th>id</th>\n",
       "      <th>signal</th>\n",
       "      <th>pitch</th>\n",
       "      <th>given_pitch</th>\n",
       "      <th>loudness</th>\n",
       "      <th>duration</th>\n",
       "      <th>note</th>\n",
       "      <th>octave</th>\n",
       "      <th>alter</th>\n",
       "    </tr>\n",
       "  </thead>\n",
       "  <tbody>\n",
       "    <tr>\n",
       "      <th>0</th>\n",
       "      <td>80400</td>\n",
       "      <td>46</td>\n",
       "      <td>6.169508e+07</td>\n",
       "      <td>216.0</td>\n",
       "      <td>220.00</td>\n",
       "      <td>7608.630</td>\n",
       "      <td>4</td>\n",
       "      <td>A</td>\n",
       "      <td>3</td>\n",
       "      <td>0</td>\n",
       "    </tr>\n",
       "    <tr>\n",
       "      <th>1</th>\n",
       "      <td>80800</td>\n",
       "      <td>46</td>\n",
       "      <td>6.271625e+07</td>\n",
       "      <td>216.0</td>\n",
       "      <td>220.00</td>\n",
       "      <td>12258.298</td>\n",
       "      <td>4</td>\n",
       "      <td>A</td>\n",
       "      <td>3</td>\n",
       "      <td>0</td>\n",
       "    </tr>\n",
       "    <tr>\n",
       "      <th>2</th>\n",
       "      <td>81600</td>\n",
       "      <td>46</td>\n",
       "      <td>6.090092e+07</td>\n",
       "      <td>216.0</td>\n",
       "      <td>220.00</td>\n",
       "      <td>12369.845</td>\n",
       "      <td>4</td>\n",
       "      <td>A</td>\n",
       "      <td>3</td>\n",
       "      <td>0</td>\n",
       "    </tr>\n",
       "    <tr>\n",
       "      <th>3</th>\n",
       "      <td>82000</td>\n",
       "      <td>46</td>\n",
       "      <td>5.992125e+07</td>\n",
       "      <td>216.0</td>\n",
       "      <td>220.00</td>\n",
       "      <td>15461.570</td>\n",
       "      <td>4</td>\n",
       "      <td>A</td>\n",
       "      <td>3</td>\n",
       "      <td>0</td>\n",
       "    </tr>\n",
       "    <tr>\n",
       "      <th>4</th>\n",
       "      <td>165600</td>\n",
       "      <td>39</td>\n",
       "      <td>2.550394e+07</td>\n",
       "      <td>144.0</td>\n",
       "      <td>146.83</td>\n",
       "      <td>7108.685</td>\n",
       "      <td>4</td>\n",
       "      <td>D</td>\n",
       "      <td>3</td>\n",
       "      <td>0</td>\n",
       "    </tr>\n",
       "  </tbody>\n",
       "</table>\n",
       "</div>"
      ],
      "text/plain": [
       "     time  id        signal  pitch  given_pitch   loudness  duration note  \\\n",
       "0   80400  46  6.169508e+07  216.0       220.00   7608.630         4    A   \n",
       "1   80800  46  6.271625e+07  216.0       220.00  12258.298         4    A   \n",
       "2   81600  46  6.090092e+07  216.0       220.00  12369.845         4    A   \n",
       "3   82000  46  5.992125e+07  216.0       220.00  15461.570         4    A   \n",
       "4  165600  39  2.550394e+07  144.0       146.83   7108.685         4    D   \n",
       "\n",
       "   octave  alter  \n",
       "0       3      0  \n",
       "1       3      0  \n",
       "2       3      0  \n",
       "3       3      0  \n",
       "4       3      0  "
      ]
     },
     "execution_count": 50,
     "metadata": {},
     "output_type": "execute_result"
    }
   ],
   "source": [
    "music = Music()\n",
    "music.read('sounds/wav/cello_pluck/multi/a3_d3.wav')\n",
    "notes = music.compile_music(window=400, DIFF=2000)\n",
    "notes\n",
    "# notes.groupby(\"time\", \"note\")"
   ]
  },
  {
   "cell_type": "code",
   "execution_count": 82,
   "metadata": {},
   "outputs": [
    {
     "data": {
      "text/plain": [
       "[<matplotlib.lines.Line2D at 0x11339b198>]"
      ]
     },
     "execution_count": 82,
     "metadata": {},
     "output_type": "execute_result"
    },
    {
     "data": {
      "image/png": "[encoded data removed]",
      "text/plain": [
       "<matplotlib.figure.Figure at 0x10fe6c358>"
      ]
     },
     "metadata": {},
     "output_type": "display_data"
    }
   ],
   "source": [
    "import matplotlib.pyplot as plt\n",
    "%matplotlib inline\n",
    "\n",
    "plt.plot(np.abs(music.chan1), \".\")"
   ]
  },
  {
   "cell_type": "code",
   "execution_count": 52,
   "metadata": {},
   "outputs": [
    {
     "data": {
      "text/plain": [
       "82392"
      ]
     },
     "execution_count": 52,
     "metadata": {},
     "output_type": "execute_result"
    }
   ],
   "source": [
    "mx = np.abs(music.chan1).argmax()\n",
    "mx"
   ]
  },
  {
   "cell_type": "code",
   "execution_count": 53,
   "metadata": {},
   "outputs": [
    {
     "data": {
      "text/plain": [
       "24607"
      ]
     },
     "execution_count": 53,
     "metadata": {},
     "output_type": "execute_result"
    }
   ],
   "source": [
    "np.abs(music.chan1)[mx]"
   ]
  },
  {
   "cell_type": "code",
   "execution_count": 79,
   "metadata": {
    "collapsed": true
   },
   "outputs": [],
   "source": [
    "def find_peaks(chan1):\n",
    "    separation = 5000 \n",
    "    peaks = list()\n",
    "    for i in range(separation, len(chan1) - separation):\n",
    "        prv = chan1[i - separation: i]\n",
    "        nxt = chan1[i+1: i+separation+1]\n",
    "        if chan1[i] > max(prv) and chan1[i] > max(nxt) and chan1[i] > 5000:\n",
    "            if len(peaks) == 0 or i - peaks[-1] > separation:\n",
    "                peaks.append(i)\n",
    "    return peaks"
   ]
  },
  {
   "cell_type": "code",
   "execution_count": 81,
   "metadata": {},
   "outputs": [
    {
     "data": {
      "text/plain": [
       "[82279, 165943]"
      ]
     },
     "execution_count": 81,
     "metadata": {},
     "output_type": "execute_result"
    }
   ],
   "source": [
    "find_peaks(music.chan1)"
   ]
  },
  {
   "cell_type": "code",
   "execution_count": 78,
   "metadata": {},
   "outputs": [
    {
     "data": {
      "text/plain": [
       "0.10416666666666667"
      ]
     },
     "execution_count": 78,
     "metadata": {},
     "output_type": "execute_result"
    }
   ],
   "source": [
    "5000 / music.sample_rate"
   ]
  },
  {
   "cell_type": "code",
   "execution_count": null,
   "metadata": {
    "collapsed": true
   },
   "outputs": [],
   "source": []
  }
 ],
 "metadata": {
  "kernelspec": {
   "display_name": "Python 3",
   "language": "python",
   "name": "python3"
  },
  "language_info": {
   "codemirror_mode": {
    "name": "ipython",
    "version": 3
   },
   "file_extension": ".py",
   "mimetype": "text/x-python",
   "name": "python",
   "nbconvert_exporter": "python",
   "pygments_lexer": "ipython3",
   "version": "3.6.3"
  }
 },
 "nbformat": 4,
 "nbformat_minor": 2
}
