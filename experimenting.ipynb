{
 "cells": [
  {
   "cell_type": "code",
   "execution_count": 106,
   "metadata": {},
   "outputs": [],
   "source": [
    "# general imports\n",
    "import numpy as np\n",
    "import pandas as pd\n",
    "\n",
    "# scipy imports\n",
    "from scipy.fftpack import fft\n",
    "from scipy.io import wavfile\n",
    "\n",
    "# custom classes\n",
    "%run classes/measure.py\n",
    "%run classes/note.py\n",
    "\n",
    "class Music:\n",
    "    \n",
    "    def __init__(self, \n",
    "                 time_signature=(4, 4),\n",
    "                 tempo=60,\n",
    "                 ver_number=\"0.00\"):\n",
    "            \n",
    "        self.time_signature = time_signature\n",
    "        self.tempo = tempo\n",
    "        self.ver_number = ver_number # version number of decoder\n",
    "\n",
    "    def read(self, input_path, is_wav_format=True):\n",
    "        self.input_path = input_path\n",
    "        if is_wav_format:\n",
    "            self.sample_rate, self.raw = wavfile.read(input_path)\n",
    "        self.chan1, self.chan2 = zip(*self.raw)\n",
    "        \n",
    "    def compile_music(self, separation=5000, min_volume_level=5000, max_pitch=8000, use_chan1=True):\n",
    "        self.measures = list()\n",
    "        \n",
    "        if use_chan1:\n",
    "            peaks = self.find_peaks(self.chan1, separation, min_volume_level)\n",
    "            notes = self.get_notes(self.chan1, peaks, separation, max_pitch)\n",
    "#         notes = self.filter_notes(notes)\n",
    "#         for i, note in enumerate(notes):\n",
    "#             measure = Measure(i+1)\n",
    "#             measure.addNote(note)\n",
    "#             self.addMeasure(measure)\n",
    "        return notes\n",
    "    \n",
    "    def get_notes(self, sound, peaks, separation, max_pitch):\n",
    "        notes = list()\n",
    "        for peak, loudness in peaks:\n",
    "            inspection_zone = sound[peak: peak + separation]\n",
    "            fft_data = np.abs(fft(inspection_zone))\n",
    "\n",
    "            conversion_factor = self.sample_rate / len(fft_data)\n",
    "            max_signal = max(fft_data)\n",
    "            resonant_freqs = (-fft_data[:max_pitch]).argsort()\n",
    "            timestamp = peak / self.sample_rate\n",
    "\n",
    "            for freq in resonant_freqs:\n",
    "                signal = fft_data[freq]\n",
    "                if signal < max_signal * 0.4:\n",
    "                    break\n",
    "                note = Note(freq * conversion_factor, signal, loudness, timestamp)\n",
    "                notes.append(note.getInfo())\n",
    "        notes = pd.DataFrame(notes, columns=[\"time\", \"id\", \"signal\", \"pitch\", \"given_pitch\",\n",
    "                                             \"loudness\", \"duration\", \"note\", \"octave\", \"alter\"])\n",
    "        return notes\n",
    "\n",
    "    # ideally this is when dynamics will come in\n",
    "    def filter_notes(self, notes):\n",
    "        N = len(notes)\n",
    "        to_delete = list()\n",
    "        for i in range(1, N):\n",
    "            if notes.iloc[i - 1].given_pitch == notes.iloc[i].given_pitch:\n",
    "                to_delete.append(i)\n",
    "        for index in list(reversed(to_delete)):\n",
    "            notes.drop([index])\n",
    "        return notes\n",
    "    \n",
    "    def find_peaks(self, sound, separation, min_volume_level):\n",
    "\n",
    "        # return value of peak positions and signal strength\n",
    "        peaks = list()\n",
    "\n",
    "        # initializing variables\n",
    "        max_prev_i = np.argmax(sound[:separation])\n",
    "        max_next_i = np.argmax(sound[separation + 1: 2 * separation]) + separation + 1\n",
    "        max_prev   = sound[max_prev_i]\n",
    "        max_next   = sound[max_next_i]\n",
    "\n",
    "        for i in range(separation, len(sound) - separation - 1):\n",
    "\n",
    "            # Determining the maximum value in the previous window\n",
    "            if sound[i - 1] > max_prev:\n",
    "                max_prev_i = i - 1\n",
    "                max_prev   = sound[max_prev_i]\n",
    "            elif i - max_prev_i > separation:\n",
    "                max_prev_i = np.argmax(sound[i - separation: i - 1]) + i - separation\n",
    "                max_prev   = sound[max_prev_i]\n",
    "\n",
    "            # Determining the maximum value in the next window\n",
    "            if sound[i + separation + 1] > max_next:\n",
    "                max_next_i = i + separation + 1\n",
    "                max_next   = sound[max_next_i]\n",
    "            elif max_next_i == i:\n",
    "                max_next_i = np.argmax(sound[i + 1: i + separation + 1]) + i + 1\n",
    "                max_next = sound[max_next_i]\n",
    "\n",
    "            # Determining if the current point is a peak\n",
    "            if sound[i] > max_prev and sound[i] > max_next and sound[i] > min_volume_level:\n",
    "                if len(peaks) == 0 or i - peaks[-1][0] > separation:\n",
    "                    peaks.append((i, sound[i]))\n",
    "        return peaks\n",
    "        \n",
    "    def addMeasure(self, measure):\n",
    "        self.measures.append(measure)"
   ]
  },
  {
   "cell_type": "code",
   "execution_count": 107,
   "metadata": {},
   "outputs": [],
   "source": [
    "music = Music()\n",
    "music.read('sounds/wav/cello_pluck/multi/a3_d3.wav')"
   ]
  },
  {
   "cell_type": "code",
   "execution_count": 108,
   "metadata": {},
   "outputs": [
    {
     "data": {
      "text/html": [
       "<div>\n",
       "<style>\n",
       "    .dataframe thead tr:only-child th {\n",
       "        text-align: right;\n",
       "    }\n",
       "\n",
       "    .dataframe thead th {\n",
       "        text-align: left;\n",
       "    }\n",
       "\n",
       "    .dataframe tbody tr th {\n",
       "        vertical-align: top;\n",
       "    }\n",
       "</style>\n",
       "<table border=\"1\" class=\"dataframe\">\n",
       "  <thead>\n",
       "    <tr style=\"text-align: right;\">\n",
       "      <th></th>\n",
       "      <th>time</th>\n",
       "      <th>id</th>\n",
       "      <th>signal</th>\n",
       "      <th>pitch</th>\n",
       "      <th>given_pitch</th>\n",
       "      <th>loudness</th>\n",
       "      <th>duration</th>\n",
       "      <th>note</th>\n",
       "      <th>octave</th>\n",
       "      <th>alter</th>\n",
       "    </tr>\n",
       "  </thead>\n",
       "  <tbody>\n",
       "    <tr>\n",
       "      <th>0</th>\n",
       "      <td>1.714146</td>\n",
       "      <td>108</td>\n",
       "      <td>2.373859e+07</td>\n",
       "      <td>47788.8</td>\n",
       "      <td>7902.13</td>\n",
       "      <td>22888</td>\n",
       "      <td>4</td>\n",
       "      <td>B</td>\n",
       "      <td>8</td>\n",
       "      <td>0</td>\n",
       "    </tr>\n",
       "    <tr>\n",
       "      <th>1</th>\n",
       "      <td>1.714146</td>\n",
       "      <td>45</td>\n",
       "      <td>2.373859e+07</td>\n",
       "      <td>211.2</td>\n",
       "      <td>207.65</td>\n",
       "      <td>22888</td>\n",
       "      <td>4</td>\n",
       "      <td>G</td>\n",
       "      <td>3</td>\n",
       "      <td>1</td>\n",
       "    </tr>\n",
       "    <tr>\n",
       "      <th>2</th>\n",
       "      <td>1.714146</td>\n",
       "      <td>108</td>\n",
       "      <td>1.972670e+07</td>\n",
       "      <td>47779.2</td>\n",
       "      <td>7902.13</td>\n",
       "      <td>22888</td>\n",
       "      <td>4</td>\n",
       "      <td>B</td>\n",
       "      <td>8</td>\n",
       "      <td>0</td>\n",
       "    </tr>\n",
       "    <tr>\n",
       "      <th>3</th>\n",
       "      <td>1.714146</td>\n",
       "      <td>46</td>\n",
       "      <td>1.972670e+07</td>\n",
       "      <td>220.8</td>\n",
       "      <td>220.00</td>\n",
       "      <td>22888</td>\n",
       "      <td>4</td>\n",
       "      <td>A</td>\n",
       "      <td>3</td>\n",
       "      <td>0</td>\n",
       "    </tr>\n",
       "    <tr>\n",
       "      <th>4</th>\n",
       "      <td>1.714146</td>\n",
       "      <td>108</td>\n",
       "      <td>1.011823e+07</td>\n",
       "      <td>47798.4</td>\n",
       "      <td>7902.13</td>\n",
       "      <td>22888</td>\n",
       "      <td>4</td>\n",
       "      <td>B</td>\n",
       "      <td>8</td>\n",
       "      <td>0</td>\n",
       "    </tr>\n",
       "    <tr>\n",
       "      <th>5</th>\n",
       "      <td>1.714146</td>\n",
       "      <td>44</td>\n",
       "      <td>1.011823e+07</td>\n",
       "      <td>201.6</td>\n",
       "      <td>196.00</td>\n",
       "      <td>22888</td>\n",
       "      <td>4</td>\n",
       "      <td>G</td>\n",
       "      <td>3</td>\n",
       "      <td>0</td>\n",
       "    </tr>\n",
       "    <tr>\n",
       "      <th>6</th>\n",
       "      <td>3.457146</td>\n",
       "      <td>108</td>\n",
       "      <td>1.361921e+07</td>\n",
       "      <td>47856.0</td>\n",
       "      <td>7902.13</td>\n",
       "      <td>10751</td>\n",
       "      <td>4</td>\n",
       "      <td>B</td>\n",
       "      <td>8</td>\n",
       "      <td>0</td>\n",
       "    </tr>\n",
       "    <tr>\n",
       "      <th>7</th>\n",
       "      <td>3.457146</td>\n",
       "      <td>39</td>\n",
       "      <td>1.361921e+07</td>\n",
       "      <td>144.0</td>\n",
       "      <td>146.83</td>\n",
       "      <td>10751</td>\n",
       "      <td>4</td>\n",
       "      <td>D</td>\n",
       "      <td>3</td>\n",
       "      <td>0</td>\n",
       "    </tr>\n",
       "  </tbody>\n",
       "</table>\n",
       "</div>"
      ],
      "text/plain": [
       "       time   id        signal    pitch  given_pitch  loudness  duration note  \\\n",
       "0  1.714146  108  2.373859e+07  47788.8      7902.13     22888         4    B   \n",
       "1  1.714146   45  2.373859e+07    211.2       207.65     22888         4    G   \n",
       "2  1.714146  108  1.972670e+07  47779.2      7902.13     22888         4    B   \n",
       "3  1.714146   46  1.972670e+07    220.8       220.00     22888         4    A   \n",
       "4  1.714146  108  1.011823e+07  47798.4      7902.13     22888         4    B   \n",
       "5  1.714146   44  1.011823e+07    201.6       196.00     22888         4    G   \n",
       "6  3.457146  108  1.361921e+07  47856.0      7902.13     10751         4    B   \n",
       "7  3.457146   39  1.361921e+07    144.0       146.83     10751         4    D   \n",
       "\n",
       "   octave  alter  \n",
       "0       8      0  \n",
       "1       3      1  \n",
       "2       8      0  \n",
       "3       3      0  \n",
       "4       8      0  \n",
       "5       3      0  \n",
       "6       8      0  \n",
       "7       3      0  "
      ]
     },
     "execution_count": 108,
     "metadata": {},
     "output_type": "execute_result"
    }
   ],
   "source": [
    "music.compile_music()"
   ]
  },
  {
   "cell_type": "code",
   "execution_count": 6,
   "metadata": {},
   "outputs": [
    {
     "data": {
      "text/plain": [
       "[<matplotlib.lines.Line2D at 0x1a0d7d2b70>]"
      ]
     },
     "execution_count": 6,
     "metadata": {},
     "output_type": "execute_result"
    },
    {
     "data": {
      "image/png": "[encoded data removed]",
      "text/plain": [
       "<matplotlib.figure.Figure at 0x1a0cdd7e48>"
      ]
     },
     "metadata": {},
     "output_type": "display_data"
    }
   ],
   "source": [
    "import matplotlib.pyplot as plt\n",
    "%matplotlib inline\n",
    "\n",
    "plt.plot(np.abs(music.chan1[50000:200000]), \".\")"
   ]
  },
  {
   "cell_type": "code",
   "execution_count": 52,
   "metadata": {},
   "outputs": [
    {
     "data": {
      "text/plain": [
       "82392"
      ]
     },
     "execution_count": 52,
     "metadata": {},
     "output_type": "execute_result"
    }
   ],
   "source": [
    "mx = np.abs(music.chan1).argmax()\n",
    "mx"
   ]
  },
  {
   "cell_type": "code",
   "execution_count": 53,
   "metadata": {},
   "outputs": [
    {
     "data": {
      "text/plain": [
       "24607"
      ]
     },
     "execution_count": 53,
     "metadata": {},
     "output_type": "execute_result"
    }
   ],
   "source": [
    "np.abs(music.chan1)[mx]"
   ]
  },
  {
   "cell_type": "code",
   "execution_count": 77,
   "metadata": {
    "collapsed": true
   },
   "outputs": [],
   "source": [
    "def find_peaks(chan1):\n",
    "    # variables that can be configured\n",
    "    separation = 5000\n",
    "    min_volume_level = 5000\n",
    "    \n",
    "    # return value of peak positions and signal strength\n",
    "    peaks = list()\n",
    "    \n",
    "    # initializing variables\n",
    "    max_prev_i = np.argmax(chan1[:separation])\n",
    "    max_next_i = np.argmax(chan1[separation + 1: 2 * separation]) + separation + 1\n",
    "    max_prev   = chan1[max_prev_i]\n",
    "    max_next   = chan1[max_next_i]\n",
    "    \n",
    "    for i in range(separation, len(chan1) - separation - 1):\n",
    "        \n",
    "        # Determining the maximum value in the previous window\n",
    "        if chan1[i - 1] > max_prev:\n",
    "            max_prev_i = i - 1\n",
    "            max_prev   = chan1[max_prev_i]\n",
    "        elif i - max_prev_i > separation:\n",
    "            max_prev_i = np.argmax(chan1[i - separation: i - 1]) + i - separation\n",
    "            max_prev   = chan1[max_prev_i]\n",
    "        \n",
    "        # Determining the maximum value in the next window\n",
    "        if chan1[i + separation + 1] > max_next:\n",
    "            max_next_i = i + separation + 1\n",
    "            max_next   = chan1[max_next_i]\n",
    "        elif max_next_i == i:\n",
    "            max_next_i = np.argmax(chan1[i + 1: i + separation + 1]) + i + 1\n",
    "            max_next = chan1[max_next_i]\n",
    "            \n",
    "        # Determining if the current point is a peak\n",
    "        if chan1[i] > max_prev and chan1[i] > max_next and chan1[i] > min_volume_level:\n",
    "            if len(peaks) == 0 or i - peaks[-1] > separation:\n",
    "                peaks.append(i)\n",
    "    return peaks"
   ]
  },
  {
   "cell_type": "code",
   "execution_count": 78,
   "metadata": {
    "scrolled": false
   },
   "outputs": [
    {
     "data": {
      "text/plain": [
       "[82279, 165943]"
      ]
     },
     "execution_count": 78,
     "metadata": {},
     "output_type": "execute_result"
    }
   ],
   "source": [
    "find_peaks(music.chan1)"
   ]
  },
  {
   "cell_type": "code",
   "execution_count": null,
   "metadata": {
    "collapsed": true
   },
   "outputs": [],
   "source": []
  }
 ],
 "metadata": {
  "kernelspec": {
   "display_name": "Python 3",
   "language": "python",
   "name": "python3"
  },
  "language_info": {
   "codemirror_mode": {
    "name": "ipython",
    "version": 3
   },
   "file_extension": ".py",
   "mimetype": "text/x-python",
   "name": "python",
   "nbconvert_exporter": "python",
   "pygments_lexer": "ipython3",
   "version": "3.6.3"
  }
 },
 "nbformat": 4,
 "nbformat_minor": 2
}
